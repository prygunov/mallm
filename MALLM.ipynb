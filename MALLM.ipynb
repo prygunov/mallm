{
  "nbformat": 4,
  "nbformat_minor": 0,
  "metadata": {
    "colab": {
      "provenance": [],
      "authorship_tag": "ABX9TyNyQMQL36armhTp+ZqDD1n1",
      "include_colab_link": true
    },
    "kernelspec": {
      "name": "python3",
      "display_name": "Python 3"
    },
    "language_info": {
      "name": "python"
    }
  },
  "cells": [
    {
      "cell_type": "markdown",
      "metadata": {
        "id": "view-in-github",
        "colab_type": "text"
      },
      "source": [
        "<a href=\"https://colab.research.google.com/github/prygunov/mallm/blob/main/MALLM.ipynb\" target=\"_parent\"><img src=\"https://colab.research.google.com/assets/colab-badge.svg\" alt=\"Open In Colab\"/></a>"
      ]
    },
    {
      "cell_type": "markdown",
      "source": [
        "# Multi agent LLM system\n",
        "\n",
        "Workflow\n",
        "1. User inputs the query\n",
        "2. System splits the query into subtasks and add them to the pool\n",
        "3. Prioritize subtasks in pool and order them\n",
        "  - may tasks run parallel?\n",
        "4. Assign tasks on specific agents, that system have\n",
        "5.\n",
        "\n",
        "# Agents\n",
        "Could have ability to use files"
      ],
      "metadata": {
        "id": "cdgWrzD-eeti"
      }
    },
    {
      "cell_type": "code",
      "execution_count": null,
      "metadata": {
        "colab": {
          "base_uri": "https://localhost:8080/"
        },
        "collapsed": true,
        "id": "Ktmxp5uDK_XB",
        "outputId": "b0c0ad74-1a65-4779-8438-de259fba8605"
      },
      "outputs": [
        {
          "output_type": "stream",
          "name": "stdout",
          "text": [
            "Requirement already satisfied: litellm in /usr/local/lib/python3.11/dist-packages (1.63.14)\n",
            "Requirement already satisfied: aiohttp in /usr/local/lib/python3.11/dist-packages (from litellm) (3.11.14)\n",
            "Requirement already satisfied: click in /usr/local/lib/python3.11/dist-packages (from litellm) (8.1.8)\n",
            "Requirement already satisfied: httpx>=0.23.0 in /usr/local/lib/python3.11/dist-packages (from litellm) (0.28.1)\n",
            "Requirement already satisfied: importlib-metadata>=6.8.0 in /usr/local/lib/python3.11/dist-packages (from litellm) (8.6.1)\n",
            "Requirement already satisfied: jinja2<4.0.0,>=3.1.2 in /usr/local/lib/python3.11/dist-packages (from litellm) (3.1.6)\n",
            "Requirement already satisfied: jsonschema<5.0.0,>=4.22.0 in /usr/local/lib/python3.11/dist-packages (from litellm) (4.23.0)\n",
            "Requirement already satisfied: openai>=1.66.1 in /usr/local/lib/python3.11/dist-packages (from litellm) (1.66.3)\n",
            "Requirement already satisfied: pydantic<3.0.0,>=2.0.0 in /usr/local/lib/python3.11/dist-packages (from litellm) (2.10.6)\n",
            "Requirement already satisfied: python-dotenv>=0.2.0 in /usr/local/lib/python3.11/dist-packages (from litellm) (1.0.1)\n",
            "Requirement already satisfied: tiktoken>=0.7.0 in /usr/local/lib/python3.11/dist-packages (from litellm) (0.9.0)\n",
            "Requirement already satisfied: tokenizers in /usr/local/lib/python3.11/dist-packages (from litellm) (0.21.1)\n",
            "Requirement already satisfied: anyio in /usr/local/lib/python3.11/dist-packages (from httpx>=0.23.0->litellm) (4.9.0)\n",
            "Requirement already satisfied: certifi in /usr/local/lib/python3.11/dist-packages (from httpx>=0.23.0->litellm) (2025.1.31)\n",
            "Requirement already satisfied: httpcore==1.* in /usr/local/lib/python3.11/dist-packages (from httpx>=0.23.0->litellm) (1.0.7)\n",
            "Requirement already satisfied: idna in /usr/local/lib/python3.11/dist-packages (from httpx>=0.23.0->litellm) (3.10)\n",
            "Requirement already satisfied: h11<0.15,>=0.13 in /usr/local/lib/python3.11/dist-packages (from httpcore==1.*->httpx>=0.23.0->litellm) (0.14.0)\n",
            "Requirement already satisfied: zipp>=3.20 in /usr/local/lib/python3.11/dist-packages (from importlib-metadata>=6.8.0->litellm) (3.21.0)\n",
            "Requirement already satisfied: MarkupSafe>=2.0 in /usr/local/lib/python3.11/dist-packages (from jinja2<4.0.0,>=3.1.2->litellm) (3.0.2)\n",
            "Requirement already satisfied: attrs>=22.2.0 in /usr/local/lib/python3.11/dist-packages (from jsonschema<5.0.0,>=4.22.0->litellm) (25.3.0)\n",
            "Requirement already satisfied: jsonschema-specifications>=2023.03.6 in /usr/local/lib/python3.11/dist-packages (from jsonschema<5.0.0,>=4.22.0->litellm) (2024.10.1)\n",
            "Requirement already satisfied: referencing>=0.28.4 in /usr/local/lib/python3.11/dist-packages (from jsonschema<5.0.0,>=4.22.0->litellm) (0.36.2)\n",
            "Requirement already satisfied: rpds-py>=0.7.1 in /usr/local/lib/python3.11/dist-packages (from jsonschema<5.0.0,>=4.22.0->litellm) (0.23.1)\n",
            "Requirement already satisfied: distro<2,>=1.7.0 in /usr/local/lib/python3.11/dist-packages (from openai>=1.66.1->litellm) (1.9.0)\n",
            "Requirement already satisfied: jiter<1,>=0.4.0 in /usr/local/lib/python3.11/dist-packages (from openai>=1.66.1->litellm) (0.9.0)\n",
            "Requirement already satisfied: sniffio in /usr/local/lib/python3.11/dist-packages (from openai>=1.66.1->litellm) (1.3.1)\n",
            "Requirement already satisfied: tqdm>4 in /usr/local/lib/python3.11/dist-packages (from openai>=1.66.1->litellm) (4.67.1)\n",
            "Requirement already satisfied: typing-extensions<5,>=4.11 in /usr/local/lib/python3.11/dist-packages (from openai>=1.66.1->litellm) (4.12.2)\n",
            "Requirement already satisfied: annotated-types>=0.6.0 in /usr/local/lib/python3.11/dist-packages (from pydantic<3.0.0,>=2.0.0->litellm) (0.7.0)\n",
            "Requirement already satisfied: pydantic-core==2.27.2 in /usr/local/lib/python3.11/dist-packages (from pydantic<3.0.0,>=2.0.0->litellm) (2.27.2)\n",
            "Requirement already satisfied: regex>=2022.1.18 in /usr/local/lib/python3.11/dist-packages (from tiktoken>=0.7.0->litellm) (2024.11.6)\n",
            "Requirement already satisfied: requests>=2.26.0 in /usr/local/lib/python3.11/dist-packages (from tiktoken>=0.7.0->litellm) (2.32.3)\n",
            "Requirement already satisfied: aiohappyeyeballs>=2.3.0 in /usr/local/lib/python3.11/dist-packages (from aiohttp->litellm) (2.6.1)\n",
            "Requirement already satisfied: aiosignal>=1.1.2 in /usr/local/lib/python3.11/dist-packages (from aiohttp->litellm) (1.3.2)\n",
            "Requirement already satisfied: frozenlist>=1.1.1 in /usr/local/lib/python3.11/dist-packages (from aiohttp->litellm) (1.5.0)\n",
            "Requirement already satisfied: multidict<7.0,>=4.5 in /usr/local/lib/python3.11/dist-packages (from aiohttp->litellm) (6.2.0)\n",
            "Requirement already satisfied: propcache>=0.2.0 in /usr/local/lib/python3.11/dist-packages (from aiohttp->litellm) (0.3.0)\n",
            "Requirement already satisfied: yarl<2.0,>=1.17.0 in /usr/local/lib/python3.11/dist-packages (from aiohttp->litellm) (1.18.3)\n",
            "Requirement already satisfied: huggingface-hub<1.0,>=0.16.4 in /usr/local/lib/python3.11/dist-packages (from tokenizers->litellm) (0.29.3)\n",
            "Requirement already satisfied: filelock in /usr/local/lib/python3.11/dist-packages (from huggingface-hub<1.0,>=0.16.4->tokenizers->litellm) (3.18.0)\n",
            "Requirement already satisfied: fsspec>=2023.5.0 in /usr/local/lib/python3.11/dist-packages (from huggingface-hub<1.0,>=0.16.4->tokenizers->litellm) (2025.3.0)\n",
            "Requirement already satisfied: packaging>=20.9 in /usr/local/lib/python3.11/dist-packages (from huggingface-hub<1.0,>=0.16.4->tokenizers->litellm) (24.2)\n",
            "Requirement already satisfied: pyyaml>=5.1 in /usr/local/lib/python3.11/dist-packages (from huggingface-hub<1.0,>=0.16.4->tokenizers->litellm) (6.0.2)\n",
            "Requirement already satisfied: charset-normalizer<4,>=2 in /usr/local/lib/python3.11/dist-packages (from requests>=2.26.0->tiktoken>=0.7.0->litellm) (3.4.1)\n",
            "Requirement already satisfied: urllib3<3,>=1.21.1 in /usr/local/lib/python3.11/dist-packages (from requests>=2.26.0->tiktoken>=0.7.0->litellm) (2.3.0)\n"
          ]
        },
        {
          "output_type": "stream",
          "name": "stderr",
          "text": [
            "\u001b[92m09:36:14 - LiteLLM:WARNING\u001b[0m: model_param_helper.py:147 - Error getting transcription kwargs cannot import name 'TranscriptionCreateParamsNonStreaming' from 'openai.types.audio.transcription_create_params' (/usr/local/lib/python3.11/dist-packages/openai/types/audio/transcription_create_params.py)\n",
            "WARNING:LiteLLM:Error getting transcription kwargs cannot import name 'TranscriptionCreateParamsNonStreaming' from 'openai.types.audio.transcription_create_params' (/usr/local/lib/python3.11/dist-packages/openai/types/audio/transcription_create_params.py)\n",
            "\u001b[92m09:36:14 - LiteLLM:WARNING\u001b[0m: model_param_helper.py:147 - Error getting transcription kwargs cannot import name 'TranscriptionCreateParamsNonStreaming' from 'openai.types.audio.transcription_create_params' (/usr/local/lib/python3.11/dist-packages/openai/types/audio/transcription_create_params.py)\n",
            "WARNING:LiteLLM:Error getting transcription kwargs cannot import name 'TranscriptionCreateParamsNonStreaming' from 'openai.types.audio.transcription_create_params' (/usr/local/lib/python3.11/dist-packages/openai/types/audio/transcription_create_params.py)\n"
          ]
        },
        {
          "output_type": "execute_result",
          "data": {
            "text/plain": [
              "ModelResponse(id='chatcmpl-BEYW6gJ2DsBmf2f2izRRMp5fMZ3tc', created=1742808974, model='gpt-3.5-turbo-0125', object='chat.completion', system_fingerprint=None, choices=[Choices(finish_reason='stop', index=0, message=Message(content=\"Hello! I'm just a computer program, so I don't have feelings like humans do. How can I assist you today?\", role='assistant', tool_calls=None, function_call=None, provider_specific_fields={'refusal': None, 'annotations': []}))], usage=Usage(completion_tokens=27, prompt_tokens=13, total_tokens=40, completion_tokens_details=CompletionTokensDetailsWrapper(accepted_prediction_tokens=0, audio_tokens=0, reasoning_tokens=0, rejected_prediction_tokens=0, text_tokens=None), prompt_tokens_details=PromptTokensDetailsWrapper(audio_tokens=0, cached_tokens=0, text_tokens=None, image_tokens=None)), service_tier='default')"
            ]
          },
          "metadata": {},
          "execution_count": 6
        }
      ],
      "source": [
        "# prompt: write litellm sample\n",
        "\n",
        "!pip install litellm\n",
        "\n",
        "import litellm\n",
        "from googleapiclient.discovery import build\n",
        "from google.colab import userdata\n",
        "\n",
        "# Set your OpenAI API key\n",
        "litellm.api_key = userdata.get('OPEN_API_KEY')\n",
        "\n",
        "# Example using the completion endpoint\n",
        "response = litellm.completion(\n",
        "    model=\"gpt-3.5-turbo\",\n",
        "    messages=[{\"role\": \"user\", \"content\": \"Hello, how are you?\"}],\n",
        "    max_tokens=50\n",
        ")\n",
        "\n",
        "response\n"
      ]
    },
    {
      "cell_type": "code",
      "source": [
        "API_KEY = userdata.get('GOOGLE_API_KEY')\n",
        "SEARCH_ENGINE_ID = \"c3f55cc2698734fcd\"\n",
        "\n",
        "def google_search(query):\n",
        "    service = build(\"customsearch\", \"v1\", developerKey=API_KEY)\n",
        "    res = service.cse().list(\n",
        "        q=query,\n",
        "        cx=SEARCH_ENGINE_ID,\n",
        "    ).execute()\n",
        "    return res\n",
        "\n",
        "def summarize_info(text, llm_model=\"gpt-3.5-turbo\"):\n",
        "    response = litellm.completion(\n",
        "        model=llm_model,\n",
        "        messages=[\n",
        "            {\"role\": \"user\", \"content\": f\"Please summarize the following text: {text}\"}\n",
        "        ],\n",
        "        max_tokens=200,\n",
        "    )\n",
        "    return response[\"choices\"][0][\"message\"][\"content\"]\n",
        "\n",
        "def find_and_summarize(query):\n",
        "    search_results = google_search(query)\n",
        "    if \"items\" in search_results:\n",
        "        for item in search_results[\"items\"]:\n",
        "            snippet = item.get(\"snippet\", \"\")\n",
        "            print(\"Snippet:\", snippet)\n",
        "            summary = summarize_info(snippet)\n",
        "            print(\"Summary:\", summary)\n",
        "            print(\"-\" * 20)\n",
        "    else:\n",
        "        print(\"No search results found.\")\n",
        "\n",
        "# Example usage\n",
        "query = \"What is the capital of France?\"\n",
        "find_and_summarize(query)\n"
      ],
      "metadata": {
        "colab": {
          "base_uri": "https://localhost:8080/"
        },
        "collapsed": true,
        "id": "1SR5u3nWLvtf",
        "outputId": "a2c7221f-597c-4d91-882e-ac528cd4aa19"
      },
      "execution_count": null,
      "outputs": [
        {
          "output_type": "stream",
          "name": "stdout",
          "text": [
            "Snippet: Paris is the capital and most populous city of France. Situated on the Seine River, in the north of the country, it is in the centre of the Île-de-France ...\n"
          ]
        },
        {
          "output_type": "stream",
          "name": "stderr",
          "text": [
            "\u001b[92m08:16:54 - LiteLLM:WARNING\u001b[0m: model_param_helper.py:147 - Error getting transcription kwargs cannot import name 'TranscriptionCreateParamsNonStreaming' from 'openai.types.audio.transcription_create_params' (/usr/local/lib/python3.11/dist-packages/openai/types/audio/transcription_create_params.py)\n",
            "WARNING:LiteLLM:Error getting transcription kwargs cannot import name 'TranscriptionCreateParamsNonStreaming' from 'openai.types.audio.transcription_create_params' (/usr/local/lib/python3.11/dist-packages/openai/types/audio/transcription_create_params.py)\n",
            "\u001b[92m08:16:54 - LiteLLM:WARNING\u001b[0m: model_param_helper.py:147 - Error getting transcription kwargs cannot import name 'TranscriptionCreateParamsNonStreaming' from 'openai.types.audio.transcription_create_params' (/usr/local/lib/python3.11/dist-packages/openai/types/audio/transcription_create_params.py)\n",
            "WARNING:LiteLLM:Error getting transcription kwargs cannot import name 'TranscriptionCreateParamsNonStreaming' from 'openai.types.audio.transcription_create_params' (/usr/local/lib/python3.11/dist-packages/openai/types/audio/transcription_create_params.py)\n"
          ]
        },
        {
          "output_type": "stream",
          "name": "stdout",
          "text": [
            "Summary: Paris is the capital and largest city of France, located on the Seine River. It is situated in the center of the Île-de-France region.\n",
            "--------------------\n",
            "Snippet: This article is about the capital city of France. For other uses, see Paris (disambiguation). \"Parisien\" redirects here. For other uses, see Parisien ( ...\n"
          ]
        },
        {
          "output_type": "stream",
          "name": "stderr",
          "text": [
            "\u001b[92m08:16:55 - LiteLLM:WARNING\u001b[0m: model_param_helper.py:147 - Error getting transcription kwargs cannot import name 'TranscriptionCreateParamsNonStreaming' from 'openai.types.audio.transcription_create_params' (/usr/local/lib/python3.11/dist-packages/openai/types/audio/transcription_create_params.py)\n",
            "WARNING:LiteLLM:Error getting transcription kwargs cannot import name 'TranscriptionCreateParamsNonStreaming' from 'openai.types.audio.transcription_create_params' (/usr/local/lib/python3.11/dist-packages/openai/types/audio/transcription_create_params.py)\n",
            "\u001b[92m08:16:55 - LiteLLM:WARNING\u001b[0m: model_param_helper.py:147 - Error getting transcription kwargs cannot import name 'TranscriptionCreateParamsNonStreaming' from 'openai.types.audio.transcription_create_params' (/usr/local/lib/python3.11/dist-packages/openai/types/audio/transcription_create_params.py)\n",
            "WARNING:LiteLLM:Error getting transcription kwargs cannot import name 'TranscriptionCreateParamsNonStreaming' from 'openai.types.audio.transcription_create_params' (/usr/local/lib/python3.11/dist-packages/openai/types/audio/transcription_create_params.py)\n"
          ]
        },
        {
          "output_type": "stream",
          "name": "stdout",
          "text": [
            "Summary: This article discusses Paris, the capital city of France. It also mentions that \"Parisien\" redirects to another article, and provides information on other uses of the term.\n",
            "--------------------\n",
            "Snippet: Paris is the capital of France, the largest country of Europe with 550 000 km2 (65 millions inhabitants). Paris has 2.234 million inhabitants end 2011.\n"
          ]
        },
        {
          "output_type": "stream",
          "name": "stderr",
          "text": [
            "\u001b[92m08:16:55 - LiteLLM:WARNING\u001b[0m: model_param_helper.py:147 - Error getting transcription kwargs cannot import name 'TranscriptionCreateParamsNonStreaming' from 'openai.types.audio.transcription_create_params' (/usr/local/lib/python3.11/dist-packages/openai/types/audio/transcription_create_params.py)\n",
            "WARNING:LiteLLM:Error getting transcription kwargs cannot import name 'TranscriptionCreateParamsNonStreaming' from 'openai.types.audio.transcription_create_params' (/usr/local/lib/python3.11/dist-packages/openai/types/audio/transcription_create_params.py)\n",
            "\u001b[92m08:16:56 - LiteLLM:WARNING\u001b[0m: model_param_helper.py:147 - Error getting transcription kwargs cannot import name 'TranscriptionCreateParamsNonStreaming' from 'openai.types.audio.transcription_create_params' (/usr/local/lib/python3.11/dist-packages/openai/types/audio/transcription_create_params.py)\n",
            "WARNING:LiteLLM:Error getting transcription kwargs cannot import name 'TranscriptionCreateParamsNonStreaming' from 'openai.types.audio.transcription_create_params' (/usr/local/lib/python3.11/dist-packages/openai/types/audio/transcription_create_params.py)\n"
          ]
        },
        {
          "output_type": "stream",
          "name": "stdout",
          "text": [
            "Summary: Paris is the capital of France and has a population of 2.234 million as of the end of 2011. France is the largest country in Europe with 65 million inhabitants.\n",
            "--------------------\n",
            "Snippet: This is a chronological list of capitals of France. The capital of France has been Paris since its liberation in 1944.\n"
          ]
        },
        {
          "output_type": "stream",
          "name": "stderr",
          "text": [
            "\u001b[92m08:16:56 - LiteLLM:WARNING\u001b[0m: model_param_helper.py:147 - Error getting transcription kwargs cannot import name 'TranscriptionCreateParamsNonStreaming' from 'openai.types.audio.transcription_create_params' (/usr/local/lib/python3.11/dist-packages/openai/types/audio/transcription_create_params.py)\n",
            "WARNING:LiteLLM:Error getting transcription kwargs cannot import name 'TranscriptionCreateParamsNonStreaming' from 'openai.types.audio.transcription_create_params' (/usr/local/lib/python3.11/dist-packages/openai/types/audio/transcription_create_params.py)\n",
            "\u001b[92m08:16:56 - LiteLLM:WARNING\u001b[0m: model_param_helper.py:147 - Error getting transcription kwargs cannot import name 'TranscriptionCreateParamsNonStreaming' from 'openai.types.audio.transcription_create_params' (/usr/local/lib/python3.11/dist-packages/openai/types/audio/transcription_create_params.py)\n",
            "WARNING:LiteLLM:Error getting transcription kwargs cannot import name 'TranscriptionCreateParamsNonStreaming' from 'openai.types.audio.transcription_create_params' (/usr/local/lib/python3.11/dist-packages/openai/types/audio/transcription_create_params.py)\n"
          ]
        },
        {
          "output_type": "stream",
          "name": "stdout",
          "text": [
            "Summary: The text lists the capitals of France in chronological order, noting that Paris has been the capital since its liberation in 1944.\n",
            "--------------------\n",
            "Snippet: Oct 4, 2013 ... Marseille is a European Capital of Culture, so new museums have opened, the streets have been spruced up for tourists, and there's a yearlong arts festival.\n"
          ]
        },
        {
          "output_type": "stream",
          "name": "stderr",
          "text": [
            "\u001b[92m08:16:57 - LiteLLM:WARNING\u001b[0m: model_param_helper.py:147 - Error getting transcription kwargs cannot import name 'TranscriptionCreateParamsNonStreaming' from 'openai.types.audio.transcription_create_params' (/usr/local/lib/python3.11/dist-packages/openai/types/audio/transcription_create_params.py)\n",
            "WARNING:LiteLLM:Error getting transcription kwargs cannot import name 'TranscriptionCreateParamsNonStreaming' from 'openai.types.audio.transcription_create_params' (/usr/local/lib/python3.11/dist-packages/openai/types/audio/transcription_create_params.py)\n",
            "\u001b[92m08:16:57 - LiteLLM:WARNING\u001b[0m: model_param_helper.py:147 - Error getting transcription kwargs cannot import name 'TranscriptionCreateParamsNonStreaming' from 'openai.types.audio.transcription_create_params' (/usr/local/lib/python3.11/dist-packages/openai/types/audio/transcription_create_params.py)\n",
            "WARNING:LiteLLM:Error getting transcription kwargs cannot import name 'TranscriptionCreateParamsNonStreaming' from 'openai.types.audio.transcription_create_params' (/usr/local/lib/python3.11/dist-packages/openai/types/audio/transcription_create_params.py)\n"
          ]
        },
        {
          "output_type": "stream",
          "name": "stdout",
          "text": [
            "Summary: Marseille has been designated as a European Capital of Culture, resulting in the opening of new museums, renovations to the streets to attract tourists, and the hosting of a yearlong arts festival.\n",
            "--------------------\n",
            "Snippet: Dec 17, 2019 ... France – Key figures: · Surface area: 633,186 sq. km. · Population 66.6 million · Capital city: Paris · Official language: French · Currency: Euro ( ...\n"
          ]
        },
        {
          "output_type": "stream",
          "name": "stderr",
          "text": [
            "\u001b[92m08:16:58 - LiteLLM:WARNING\u001b[0m: model_param_helper.py:147 - Error getting transcription kwargs cannot import name 'TranscriptionCreateParamsNonStreaming' from 'openai.types.audio.transcription_create_params' (/usr/local/lib/python3.11/dist-packages/openai/types/audio/transcription_create_params.py)\n",
            "WARNING:LiteLLM:Error getting transcription kwargs cannot import name 'TranscriptionCreateParamsNonStreaming' from 'openai.types.audio.transcription_create_params' (/usr/local/lib/python3.11/dist-packages/openai/types/audio/transcription_create_params.py)\n",
            "\u001b[92m08:16:58 - LiteLLM:WARNING\u001b[0m: model_param_helper.py:147 - Error getting transcription kwargs cannot import name 'TranscriptionCreateParamsNonStreaming' from 'openai.types.audio.transcription_create_params' (/usr/local/lib/python3.11/dist-packages/openai/types/audio/transcription_create_params.py)\n",
            "WARNING:LiteLLM:Error getting transcription kwargs cannot import name 'TranscriptionCreateParamsNonStreaming' from 'openai.types.audio.transcription_create_params' (/usr/local/lib/python3.11/dist-packages/openai/types/audio/transcription_create_params.py)\n"
          ]
        },
        {
          "output_type": "stream",
          "name": "stdout",
          "text": [
            "Summary: The text provides key statistics about France, including its surface area, population, capital city, official language, and currency. France has a surface area of 633,186 sq. km and a population of 66.6 million. The capital city is Paris, with French being the official language and the currency being the Euro.\n",
            "--------------------\n",
            "Snippet: Jan 1, 2025 ... The world makes more sense when you accept that the people around you at any given moment are largely all complete imbeciles.\n"
          ]
        },
        {
          "output_type": "stream",
          "name": "stderr",
          "text": [
            "\u001b[92m08:16:59 - LiteLLM:WARNING\u001b[0m: model_param_helper.py:147 - Error getting transcription kwargs cannot import name 'TranscriptionCreateParamsNonStreaming' from 'openai.types.audio.transcription_create_params' (/usr/local/lib/python3.11/dist-packages/openai/types/audio/transcription_create_params.py)\n",
            "WARNING:LiteLLM:Error getting transcription kwargs cannot import name 'TranscriptionCreateParamsNonStreaming' from 'openai.types.audio.transcription_create_params' (/usr/local/lib/python3.11/dist-packages/openai/types/audio/transcription_create_params.py)\n",
            "\u001b[92m08:16:59 - LiteLLM:WARNING\u001b[0m: model_param_helper.py:147 - Error getting transcription kwargs cannot import name 'TranscriptionCreateParamsNonStreaming' from 'openai.types.audio.transcription_create_params' (/usr/local/lib/python3.11/dist-packages/openai/types/audio/transcription_create_params.py)\n",
            "WARNING:LiteLLM:Error getting transcription kwargs cannot import name 'TranscriptionCreateParamsNonStreaming' from 'openai.types.audio.transcription_create_params' (/usr/local/lib/python3.11/dist-packages/openai/types/audio/transcription_create_params.py)\n"
          ]
        },
        {
          "output_type": "stream",
          "name": "stdout",
          "text": [
            "Summary: The text suggests that it is easier to understand the world when you accept that most people around you are not very intelligent.\n",
            "--------------------\n",
            "Snippet: Paris, city and capital of France, located along the Seine River, in the north-central part of the country. Paris is one of the world's most important and ...\n"
          ]
        },
        {
          "output_type": "stream",
          "name": "stderr",
          "text": [
            "\u001b[92m08:16:59 - LiteLLM:WARNING\u001b[0m: model_param_helper.py:147 - Error getting transcription kwargs cannot import name 'TranscriptionCreateParamsNonStreaming' from 'openai.types.audio.transcription_create_params' (/usr/local/lib/python3.11/dist-packages/openai/types/audio/transcription_create_params.py)\n",
            "WARNING:LiteLLM:Error getting transcription kwargs cannot import name 'TranscriptionCreateParamsNonStreaming' from 'openai.types.audio.transcription_create_params' (/usr/local/lib/python3.11/dist-packages/openai/types/audio/transcription_create_params.py)\n",
            "\u001b[92m08:16:59 - LiteLLM:WARNING\u001b[0m: model_param_helper.py:147 - Error getting transcription kwargs cannot import name 'TranscriptionCreateParamsNonStreaming' from 'openai.types.audio.transcription_create_params' (/usr/local/lib/python3.11/dist-packages/openai/types/audio/transcription_create_params.py)\n",
            "WARNING:LiteLLM:Error getting transcription kwargs cannot import name 'TranscriptionCreateParamsNonStreaming' from 'openai.types.audio.transcription_create_params' (/usr/local/lib/python3.11/dist-packages/openai/types/audio/transcription_create_params.py)\n"
          ]
        },
        {
          "output_type": "stream",
          "name": "stdout",
          "text": [
            "Summary: Paris is a major city and the capital of France, situated along the Seine River in the north-central part of the country. It is considered one of the world's most important cities.\n",
            "--------------------\n",
            "Snippet: Dec 3, 2024 ... Claude has unfortunately passed away. Claude was killed in a motor accident on the night of December 2nd, 2024. He will be in our hearts forever.\n"
          ]
        },
        {
          "output_type": "stream",
          "name": "stderr",
          "text": [
            "\u001b[92m08:17:00 - LiteLLM:WARNING\u001b[0m: model_param_helper.py:147 - Error getting transcription kwargs cannot import name 'TranscriptionCreateParamsNonStreaming' from 'openai.types.audio.transcription_create_params' (/usr/local/lib/python3.11/dist-packages/openai/types/audio/transcription_create_params.py)\n",
            "WARNING:LiteLLM:Error getting transcription kwargs cannot import name 'TranscriptionCreateParamsNonStreaming' from 'openai.types.audio.transcription_create_params' (/usr/local/lib/python3.11/dist-packages/openai/types/audio/transcription_create_params.py)\n",
            "\u001b[92m08:17:00 - LiteLLM:WARNING\u001b[0m: model_param_helper.py:147 - Error getting transcription kwargs cannot import name 'TranscriptionCreateParamsNonStreaming' from 'openai.types.audio.transcription_create_params' (/usr/local/lib/python3.11/dist-packages/openai/types/audio/transcription_create_params.py)\n",
            "WARNING:LiteLLM:Error getting transcription kwargs cannot import name 'TranscriptionCreateParamsNonStreaming' from 'openai.types.audio.transcription_create_params' (/usr/local/lib/python3.11/dist-packages/openai/types/audio/transcription_create_params.py)\n"
          ]
        },
        {
          "output_type": "stream",
          "name": "stdout",
          "text": [
            "Summary: Claude passed away on December 2nd, 2024 in a motor accident. He will be remembered and missed dearly.\n",
            "--------------------\n",
            "Snippet: Bounded by the Atlantic Ocean and the Mediterranean Sea, the Alps and the Pyrenees, France has long provided a geographic, economic, and linguistic bridge ...\n",
            "Summary: France is located between the Atlantic Ocean and the Mediterranean Sea, and is also bordered by the Alps and the Pyrenees. This unique position has made France a significant geographic, economic, and linguistic bridge.\n",
            "--------------------\n"
          ]
        },
        {
          "output_type": "stream",
          "name": "stderr",
          "text": [
            "\u001b[92m08:17:00 - LiteLLM:WARNING\u001b[0m: model_param_helper.py:147 - Error getting transcription kwargs cannot import name 'TranscriptionCreateParamsNonStreaming' from 'openai.types.audio.transcription_create_params' (/usr/local/lib/python3.11/dist-packages/openai/types/audio/transcription_create_params.py)\n",
            "WARNING:LiteLLM:Error getting transcription kwargs cannot import name 'TranscriptionCreateParamsNonStreaming' from 'openai.types.audio.transcription_create_params' (/usr/local/lib/python3.11/dist-packages/openai/types/audio/transcription_create_params.py)\n",
            "\u001b[92m08:17:00 - LiteLLM:WARNING\u001b[0m: model_param_helper.py:147 - Error getting transcription kwargs cannot import name 'TranscriptionCreateParamsNonStreaming' from 'openai.types.audio.transcription_create_params' (/usr/local/lib/python3.11/dist-packages/openai/types/audio/transcription_create_params.py)\n",
            "WARNING:LiteLLM:Error getting transcription kwargs cannot import name 'TranscriptionCreateParamsNonStreaming' from 'openai.types.audio.transcription_create_params' (/usr/local/lib/python3.11/dist-packages/openai/types/audio/transcription_create_params.py)\n"
          ]
        }
      ]
    },
    {
      "cell_type": "code",
      "source": [],
      "metadata": {
        "id": "KJkwFwPzf5Rl"
      },
      "execution_count": null,
      "outputs": []
    }
  ]
}